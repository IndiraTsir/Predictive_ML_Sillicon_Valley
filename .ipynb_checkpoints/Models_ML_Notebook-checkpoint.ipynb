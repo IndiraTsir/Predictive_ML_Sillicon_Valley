{
 "cells": [
  {
   "cell_type": "markdown",
   "id": "ac823a31",
   "metadata": {},
   "source": [
    "# Models"
   ]
  },
  {
   "cell_type": "markdown",
   "id": "c2a06a48",
   "metadata": {},
   "source": [
    "## The baseline model"
   ]
  },
  {
   "cell_type": "code",
   "execution_count": 34,
   "id": "421cdf06",
   "metadata": {},
   "outputs": [],
   "source": [
    "# Imports \n",
    "import numpy as np\n",
    "import pandas as pd\n",
    "import matplotlib.pyplot as plt\n",
    "import seaborn as sns\n",
    "\n",
    "from sklearn.model_selection import train_test_split\n",
    "from sklearn.model_selection import cross_validate\n",
    "from sklearn.model_selection import cross_val_score\n",
    "from sklearn.model_selection import cross_val_predict\n",
    "\n",
    "from sklearn.linear_model import LogisticRegression\n",
    "from sklearn.dummy import DummyClassifier\n",
    "from sklearn.dummy import DummyRegressor\n",
    "from sklearn.linear_model import LinearRegression\n",
    "from sklearn.neighbors import KNeighborsClassifier\n",
    "from sklearn.preprocessing import RobustScaler\n",
    "from sklearn.ensemble import RandomForestRegressor\n",
    "\n",
    "\n",
    "from sklearn.metrics import accuracy_score, precision_score, recall_score, f1_score, \\\n",
    "    confusion_matrix, classification_report\n",
    "\n",
    "from sklearn.metrics import roc_auc_score, plot_roc_curve, roc_curve\n",
    "from sklearn.metrics import average_precision_score\n",
    "from sklearn.metrics import precision_recall_curve,plot_precision_recall_curve\n",
    "\n",
    "from sklearn.model_selection import learning_curve\n",
    "\n",
    "from statsmodels.stats.outliers_influence import variance_inflation_factor as vif\n",
    "\n",
    "from sklearn.inspection import permutation_importance\n",
    "#import warnings\n",
    "#warnings.simplefilter(action=\"ignore\")"
   ]
  },
  {
   "cell_type": "code",
   "execution_count": 3,
   "id": "26e93951",
   "metadata": {},
   "outputs": [],
   "source": [
    "# load my clean dataset\n",
    "df = pd.read_csv('clean.csv')"
   ]
  },
  {
   "cell_type": "markdown",
   "id": "6e3b6c25",
   "metadata": {},
   "source": [
    "## Model 1 : Dummy"
   ]
  },
  {
   "cell_type": "markdown",
   "id": "e1e67086",
   "metadata": {},
   "source": [
    "Iteration 1\n",
    "\n",
    "R2 score : 0.0"
   ]
  },
  {
   "cell_type": "code",
   "execution_count": 8,
   "id": "e1d93415",
   "metadata": {},
   "outputs": [
    {
     "name": "stdout",
     "output_type": "stream",
     "text": [
      "First iteration R2 = 0.0\n"
     ]
    }
   ],
   "source": [
    "X = df.drop(['median_house_value'], axis=1)\n",
    "y = df['median_house_value']\n",
    "\n",
    "X_train, X_test, y_train, y_test = train_test_split(X,y,train_size=0.3, random_state=1)\n",
    "\n",
    "# Dummy\n",
    "dummy_reg = DummyRegressor(strategy=\"mean\")\n",
    "\n",
    "# fit the model\n",
    "dummy_reg.fit(X_train, y_train)\n",
    "\n",
    "# Iteration\n",
    "print(\"First iteration R2 = {}\".format(dummy_reg.score(X_train, y_train)))"
   ]
  },
  {
   "cell_type": "markdown",
   "id": "e5dbd9d3",
   "metadata": {},
   "source": [
    "## Model 2 : Linear Regression"
   ]
  },
  {
   "cell_type": "code",
   "execution_count": 12,
   "id": "639d2079",
   "metadata": {},
   "outputs": [],
   "source": [
    "# Replace the missing values for 0 \n",
    "\n",
    "df_zero = df.fillna(0)"
   ]
  },
  {
   "cell_type": "markdown",
   "id": "badd0870",
   "metadata": {},
   "source": [
    "Iteration 2\n",
    "\n",
    "R2 score : 0.652"
   ]
  },
  {
   "cell_type": "code",
   "execution_count": 13,
   "id": "514f9b29",
   "metadata": {},
   "outputs": [
    {
     "name": "stdout",
     "output_type": "stream",
     "text": [
      "Coef: [ 9.99026076e-02 -2.61484713e+04 -2.55114783e+04  1.01155009e+03\n",
      " -3.15159159e+00  5.10972096e+01 -4.61827539e+01  1.05737125e+02\n",
      "  3.83590379e+04 -2.78476409e+04 -6.62765002e+04  1.45685948e+05\n",
      " -3.18703662e+04 -1.96914405e+04]\n",
      "Intercept: -2154189.8826179905\n",
      "Score: 0.652373078349147\n"
     ]
    }
   ],
   "source": [
    "# linear regression with all features \n",
    "X = df_zero.drop(['median_house_value'], axis=1)\n",
    "y = df_zero['median_house_value']\n",
    "\n",
    "X_train, X_test, y_train, y_test = train_test_split(X,y,train_size=0.3)\n",
    "\n",
    "model = LinearRegression()\n",
    "\n",
    "model.fit(X_train, y_train)\n",
    "\n",
    "score = model.score(X_train, y_train)\n",
    "\n",
    "#coef and intercept results\n",
    "print('Coef:',model.coef_)\n",
    "print('Intercept:',model.intercept_)\n",
    "print('Score:',score)\n"
   ]
  },
  {
   "cell_type": "code",
   "execution_count": 14,
   "id": "24a99b33",
   "metadata": {},
   "outputs": [],
   "source": [
    "# Remove the column with the missing values\n",
    "\n",
    "df_no_bed = df.drop(columns=['total_bedrooms'])\n"
   ]
  },
  {
   "cell_type": "markdown",
   "id": "eaf9619e",
   "metadata": {},
   "source": [
    "Iteration 3\n",
    "\n",
    "R2 score : 0.643"
   ]
  },
  {
   "cell_type": "code",
   "execution_count": 22,
   "id": "9e3f7497",
   "metadata": {},
   "outputs": [
    {
     "name": "stdout",
     "output_type": "stream",
     "text": [
      "Coef: [ 1.82997027e-01 -2.53359471e+04 -2.41165985e+04  1.05474789e+03\n",
      "  3.14679997e-01 -4.96443228e+01  1.55147731e+02  3.75319151e+04\n",
      " -4.22387514e+04 -8.71951289e+04  2.22320970e+05 -5.01218194e+04\n",
      " -4.27652698e+04]\n",
      "Intercept: -2090270.0746615273\n",
      "Score: 0.6431667741821034\n"
     ]
    }
   ],
   "source": [
    "# linear regression with no bedrooms\n",
    "\n",
    "X = df_no_bed.drop(['median_house_value'], axis=1)\n",
    "y = df_no_bed['median_house_value']\n",
    "\n",
    "X_train, X_test, y_train, y_test = train_test_split(X,y,train_size=0.3)\n",
    "\n",
    "model = LinearRegression()\n",
    "\n",
    "model.fit(X_train, y_train)\n",
    "\n",
    "score = model.score(X_train, y_train)\n",
    "\n",
    "#coef and intercept results\n",
    "print('Coef:',model.coef_)\n",
    "print('Intercept:',model.intercept_)\n",
    "print('Score:',score)"
   ]
  },
  {
   "cell_type": "code",
   "execution_count": 17,
   "id": "7451178f",
   "metadata": {},
   "outputs": [],
   "source": [
    "# Replace the column with the missing values for the median\n",
    "\n",
    "df_median = df.fillna(df.median())"
   ]
  },
  {
   "cell_type": "markdown",
   "id": "eaa684cb",
   "metadata": {},
   "source": [
    "Iteration 4\n",
    "\n",
    "R2 score : 0.629"
   ]
  },
  {
   "cell_type": "code",
   "execution_count": 23,
   "id": "9c50a1a7",
   "metadata": {},
   "outputs": [
    {
     "name": "stdout",
     "output_type": "stream",
     "text": [
      "Coef: [ 2.09165852e-02 -2.62983638e+04 -2.56552506e+04  1.07739104e+03\n",
      " -4.05750499e+00  8.87084342e+01 -3.78885579e+01  4.89100911e+01\n",
      "  3.76171173e+04  8.99151230e+03 -3.08151315e+04 -1.81898940e-12\n",
      "  7.75135218e+03  1.40722670e+04]\n",
      "Intercept: -2205761.01929846\n",
      "Score: 0.6299222626299458\n"
     ]
    }
   ],
   "source": [
    "# linear regression with MEDIAN\n",
    "X = df_median.drop(['median_house_value'], axis=1)\n",
    "y = df_median['median_house_value']\n",
    "\n",
    "X_train, X_test, y_train, y_test = train_test_split(X,y,train_size=0.3)\n",
    "\n",
    "model = LinearRegression()\n",
    "\n",
    "model.fit(X_train, y_train)\n",
    "\n",
    "score = model.score(X_train, y_train)\n",
    "\n",
    "#coef and intercept results\n",
    "print('Coef:',model.coef_)\n",
    "print('Intercept:',model.intercept_)\n",
    "print('Score:',score)"
   ]
  },
  {
   "cell_type": "code",
   "execution_count": 20,
   "id": "20baa6b2",
   "metadata": {},
   "outputs": [],
   "source": [
    "# Replace the column with the missing values for the median\n",
    "\n",
    "df_mean = df.fillna(df.mean())"
   ]
  },
  {
   "cell_type": "markdown",
   "id": "4ef84838",
   "metadata": {},
   "source": [
    "Iteration 5\n",
    "\n",
    "R2 score : 0.659"
   ]
  },
  {
   "cell_type": "code",
   "execution_count": 26,
   "id": "16243c4d",
   "metadata": {},
   "outputs": [
    {
     "name": "stdout",
     "output_type": "stream",
     "text": [
      "Coef: [-3.66765690e-01 -2.21949186e+04 -2.10540812e+04  9.54767078e+02\n",
      " -5.32263604e+00  8.56098653e+01 -4.43309301e+01  7.51950059e+01\n",
      "  3.94076984e+04  1.64240953e+03 -4.38228810e+04  4.43372596e+04\n",
      " -7.56521563e+03  5.40842744e+03]\n",
      "Intercept: -1867593.189341713\n",
      "Score: 0.659826084721391\n"
     ]
    }
   ],
   "source": [
    "# linear regression with the MEAN\n",
    "X = df_mean.drop(['median_house_value'], axis=1)\n",
    "y = df_mean['median_house_value']\n",
    "\n",
    "X_train, X_test, y_train, y_test = train_test_split(X,y,train_size=0.3)\n",
    "\n",
    "model = LinearRegression()\n",
    "\n",
    "model.fit(X_train, y_train)\n",
    "\n",
    "score = model.score(X_train, y_train)\n",
    "\n",
    "#coef and intercept results\n",
    "print('Coef:',model.coef_)\n",
    "print('Intercept:',model.intercept_)\n",
    "print('Score:',score)"
   ]
  },
  {
   "cell_type": "markdown",
   "id": "e058d902",
   "metadata": {},
   "source": [
    "## Model 3 : Random Forest\n"
   ]
  },
  {
   "cell_type": "markdown",
   "id": "d00c3737",
   "metadata": {},
   "source": [
    "Iteration 6\n",
    "R2 score : 0.75"
   ]
  },
  {
   "cell_type": "code",
   "execution_count": 36,
   "id": "e9d37ef2",
   "metadata": {},
   "outputs": [
    {
     "name": "stdout",
     "output_type": "stream",
     "text": [
      "R2=0.7495616122362954\n",
      "Mean Absolute Error: 38848.45\n",
      "Mean Absolute Percentage Error : 21.86 %.\n"
     ]
    }
   ],
   "source": [
    "X = df_zero.drop(['median_house_value'], axis=1)\n",
    "y = df_zero['median_house_value']\n",
    "\n",
    "# standardizing the features (scaling)\n",
    "X = RobustScaler().fit_transform(X)\n",
    "\n",
    "X_train, X_test, y_train, y_test = train_test_split(X,y,train_size=0.3)\n",
    "\n",
    "rf = RandomForestRegressor(n_estimators=10, random_state=20)\n",
    "\n",
    "rf.fit(X_train, y_train)\n",
    "\n",
    "pred = rf.predict(X_test)\n",
    "\n",
    "# R2 \n",
    "print(\"R2={}\".format(rf.score(X_test,y_test)))\n",
    "\n",
    "# MAE\n",
    "errors = abs(pred - y_test)\n",
    "print('Mean Absolute Error:', round(np.mean(errors), 2))\n",
    "\n",
    "# MAPE\n",
    "mape = 100 * (errors / y_test)\n",
    "print('Mean Absolute Percentage Error :', round(np.mean(mape), 2), '%.')"
   ]
  },
  {
   "cell_type": "markdown",
   "id": "30b2bf38",
   "metadata": {},
   "source": [
    "Iteration 7\n",
    "R2 score : 0.74"
   ]
  },
  {
   "cell_type": "code",
   "execution_count": 38,
   "id": "9588f328",
   "metadata": {},
   "outputs": [
    {
     "name": "stdout",
     "output_type": "stream",
     "text": [
      "R2=0.748775850158302\n",
      "Mean Absolute Error: 38950.63\n",
      "Mean Absolute Percentage Error : 21.96 %.\n"
     ]
    }
   ],
   "source": [
    "X = df_mean.drop(['median_house_value'], axis=1)\n",
    "y = df_mean['median_house_value']\n",
    "\n",
    "# standardizing the features (scaling)\n",
    "X = RobustScaler().fit_transform(X)\n",
    "\n",
    "X_train, X_test, y_train, y_test = train_test_split(X,y,train_size=0.3)\n",
    "\n",
    "rf = RandomForestRegressor(n_estimators=10, random_state=20)\n",
    "\n",
    "rf.fit(X_train, y_train)\n",
    "\n",
    "pred = rf.predict(X_test)\n",
    "\n",
    "# R2 \n",
    "print(\"R2={}\".format(rf.score(X_test,y_test)))\n",
    "\n",
    "# MAE\n",
    "errors = abs(pred - y_test)\n",
    "print('Mean Absolute Error:', round(np.mean(errors), 2))\n",
    "\n",
    "# MAPE\n",
    "mape = 100 * (errors / y_test)\n",
    "print('Mean Absolute Percentage Error :', round(np.mean(mape), 2), '%.')"
   ]
  },
  {
   "cell_type": "code",
   "execution_count": null,
   "id": "71a42ae0",
   "metadata": {},
   "outputs": [],
   "source": []
  },
  {
   "cell_type": "code",
   "execution_count": null,
   "id": "70840399",
   "metadata": {},
   "outputs": [],
   "source": []
  }
 ],
 "metadata": {
  "kernelspec": {
   "display_name": "Python 3 (ipykernel)",
   "language": "python",
   "name": "python3"
  },
  "language_info": {
   "codemirror_mode": {
    "name": "ipython",
    "version": 3
   },
   "file_extension": ".py",
   "mimetype": "text/x-python",
   "name": "python",
   "nbconvert_exporter": "python",
   "pygments_lexer": "ipython3",
   "version": "3.8.12"
  },
  "toc": {
   "base_numbering": 1,
   "nav_menu": {},
   "number_sections": true,
   "sideBar": true,
   "skip_h1_title": false,
   "title_cell": "Table of Contents",
   "title_sidebar": "Contents",
   "toc_cell": false,
   "toc_position": {},
   "toc_section_display": true,
   "toc_window_display": false
  }
 },
 "nbformat": 4,
 "nbformat_minor": 5
}
